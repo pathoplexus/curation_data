{
  "cells": [
    {
      "cell_type": "code",
      "execution_count": 1,
      "metadata": {
        "colab": {
          "base_uri": "https://localhost:8080/"
        },
        "id": "Aj_vgFC7wVOx",
        "outputId": "33694049-1fa2-4c0c-a0bd-0a912bdc0f76"
      },
      "outputs": [
        {
          "output_type": "stream",
          "name": "stdout",
          "text": [
            "Collecting biopython\n",
            "  Downloading biopython-1.85-cp311-cp311-manylinux_2_17_x86_64.manylinux2014_x86_64.whl.metadata (13 kB)\n",
            "Requirement already satisfied: numpy in /usr/local/lib/python3.11/dist-packages (from biopython) (2.0.2)\n",
            "Downloading biopython-1.85-cp311-cp311-manylinux_2_17_x86_64.manylinux2014_x86_64.whl (3.3 MB)\n",
            "\u001b[2K   \u001b[90m━━━━━━━━━━━━━━━━━━━━━━━━━━━━━━━━━━━━━━━━\u001b[0m \u001b[32m3.3/3.3 MB\u001b[0m \u001b[31m19.0 MB/s\u001b[0m eta \u001b[36m0:00:00\u001b[0m\n",
            "\u001b[?25hInstalling collected packages: biopython\n",
            "Successfully installed biopython-1.85\n"
          ]
        }
      ],
      "source": [
        "!pip install biopython"
      ]
    },
    {
      "cell_type": "code",
      "execution_count": 13,
      "metadata": {
        "colab": {
          "base_uri": "https://localhost:8080/",
          "height": 587,
          "referenced_widgets": [
            "c8f09a49fd0141c1acbd6b4c6f95c476",
            "4f0e47b13a9d47b59285e3b4184e0adf",
            "470122c7f4f2401eaf10ebe1b3b3cc73",
            "ffcbf8914c69410abf20b31726c32092",
            "e1675712465544439d3c21e9c431d3d5",
            "fc0968b617854f668e0f8a660f7fb8bf",
            "0e6be726d49148e5a232ae3e1bea96ec",
            "e4defac4e010428cb150aa6974cb795d",
            "2a77887ff3d74869a39ed93dc270214a",
            "e0b3d0013e9a472fae6cb7acb404f441",
            "cb7c09fe376841a2b32e9bf68bfd72db"
          ]
        },
        "id": "TkqP-CDhwVmh",
        "outputId": "4af86f44-5665-45a5-9a6d-7e6009377615"
      },
      "outputs": [
        {
          "output_type": "stream",
          "name": "stdout",
          "text": [
            "🔎 Found 4800 unique INSDC accessions.\n",
            "⚡ Fetching strain names using NCBI efetch with batch processing...\n"
          ]
        },
        {
          "output_type": "display_data",
          "data": {
            "text/plain": [
              "Batch fetching:   0%|          | 0/4800 [00:00<?, ?it/s]"
            ],
            "application/vnd.jupyter.widget-view+json": {
              "version_major": 2,
              "version_minor": 0,
              "model_id": "c8f09a49fd0141c1acbd6b4c6f95c476"
            }
          },
          "metadata": {}
        },
        {
          "output_type": "stream",
          "name": "stdout",
          "text": [
            "Successfully retrieved 200 records from batch of 200 accessions\n",
            "Successfully retrieved 200 records from batch of 200 accessions\n",
            "Successfully retrieved 200 records from batch of 200 accessions\n",
            "Successfully retrieved 200 records from batch of 200 accessions\n",
            "Successfully retrieved 200 records from batch of 200 accessions\n",
            "Successfully retrieved 200 records from batch of 200 accessions\n",
            "Successfully retrieved 200 records from batch of 200 accessions\n",
            "Successfully retrieved 200 records from batch of 200 accessions\n",
            "Successfully retrieved 200 records from batch of 200 accessions\n",
            "Successfully retrieved 200 records from batch of 200 accessions\n",
            "Successfully retrieved 200 records from batch of 200 accessions\n",
            "Successfully retrieved 200 records from batch of 200 accessions\n",
            "Successfully retrieved 200 records from batch of 200 accessions\n",
            "Successfully retrieved 200 records from batch of 200 accessions\n",
            "Successfully retrieved 200 records from batch of 200 accessions\n",
            "Successfully retrieved 200 records from batch of 200 accessions\n",
            "Successfully retrieved 200 records from batch of 200 accessions\n",
            "Successfully retrieved 200 records from batch of 200 accessions\n",
            "Successfully retrieved 200 records from batch of 200 accessions\n",
            "Successfully retrieved 200 records from batch of 200 accessions\n",
            "Successfully retrieved 200 records from batch of 200 accessions\n",
            "Successfully retrieved 200 records from batch of 200 accessions\n",
            "Successfully retrieved 200 records from batch of 200 accessions\n",
            "Successfully retrieved 200 records from batch of 200 accessions\n",
            "Batch processing completed. Found strain info for 760 accessions.\n",
            "✅ Processed 4800 accessions\n",
            "✅ Found strain information for 760 accessions\n",
            "✅ Identified 385 unique strains\n",
            "✅ All done! Saved as 'strain_accession_map.json'\n"
          ]
        }
      ],
      "source": [
        "import pandas as pd\n",
        "import time\n",
        "import json\n",
        "import random\n",
        "from Bio import Entrez, SeqIO\n",
        "from collections import defaultdict\n",
        "from tqdm.notebook import tqdm\n",
        "\n",
        "# Set NCBI email (required)\n",
        "Entrez.email = \"bob@smith.com\"  # Replace with your actual email\n",
        "\n",
        "# Load the dataset from PathoPlexus\n",
        "url = \"https://lapis.pathoplexus.org/cchf/sample/details?downloadAsFile=true&downloadFileBasename=cchf_metadata_2025-04-03T2223&dataFormat=tsv&fields=accessionVersion%2CdataUseTerms%2CdataUseTermsUrl%2CearliestReleaseDate%2CgeoLocAdmin1%2CgeoLocAdmin2%2CgeoLocCity%2CgeoLocCountry%2ChostNameScientific%2Clength_L%2Clength_M%2Clength_S%2CsampleCollectionDate%2CinsdcAccessionFull_L%2CinsdcAccessionFull_S%2CinsdcAccessionFull_M%2CspecimenCollectorSampleId%2Cauthors%2CauthorAffiliations&versionStatus=LATEST_VERSION&isRevocation=false\"\n",
        "df = pd.read_csv(url, sep=\"\\t\")\n",
        "\n",
        "# Gather all unique INSDC accessions\n",
        "accession_cols = [\"insdcAccessionFull_L\", \"insdcAccessionFull_M\", \"insdcAccessionFull_S\"]\n",
        "all_insdc_ids = set()\n",
        "for col in accession_cols:\n",
        "    all_insdc_ids.update(df[col].dropna().str.split(\",\").explode().str.strip())\n",
        "\n",
        "# Remove any empty strings\n",
        "all_insdc_ids = {acc for acc in all_insdc_ids if acc}\n",
        "\n",
        "print(f\"🔎 Found {len(all_insdc_ids)} unique INSDC accessions.\")\n",
        "\n",
        "# Function to fetch strain names from NCBI in batches using Biopython's SeqIO parser\n",
        "def fetch_strains_batch(accessions, batch_size=100, max_retries=5, initial_delay=1, backoff_factor=2, jitter=0.1):\n",
        "    results = {}\n",
        "    # Process in batches\n",
        "    for i in range(0, len(accessions), batch_size):\n",
        "        batch = accessions[i:i+batch_size]\n",
        "        retries = 0\n",
        "        delay = initial_delay\n",
        "\n",
        "        while retries <= max_retries:\n",
        "            try:\n",
        "                # Join accessions with comma for batch request\n",
        "                acc_string = \",\".join(batch)\n",
        "                handle = Entrez.efetch(db=\"nucleotide\", id=acc_string, rettype=\"gb\", retmode=\"text\")\n",
        "\n",
        "                # Use Biopython's SeqIO to properly parse multiple records\n",
        "                records = list(SeqIO.parse(handle, \"genbank\"))\n",
        "                handle.close()\n",
        "\n",
        "                print(f\"Successfully retrieved {len(records)} records from batch of {len(batch)} accessions\")\n",
        "\n",
        "                # Extract strain information from each record\n",
        "                for record in records:\n",
        "                    accession = record.id\n",
        "\n",
        "                    # Look for strain information in the features\n",
        "                    strain = None\n",
        "                    for feature in record.features:\n",
        "                        if feature.type == \"source\" and \"strain\" in feature.qualifiers:\n",
        "                            strain = feature.qualifiers[\"strain\"][0]\n",
        "                            break\n",
        "\n",
        "                    if strain:\n",
        "                        results[accession] = strain\n",
        "\n",
        "                # If we got here, the batch was successful\n",
        "                break\n",
        "\n",
        "            except Exception as e:\n",
        "                retries += 1\n",
        "                if retries > max_retries:\n",
        "                    print(f\"Failed fetching batch after {max_retries} retries: {e}\")\n",
        "                    # Move on to the next batch\n",
        "                    break\n",
        "\n",
        "                # Calculate backoff with jitter\n",
        "                jitter_amount = random.uniform(-jitter * delay, jitter * delay)\n",
        "                sleep_time = delay + jitter_amount\n",
        "\n",
        "                print(f\"Error fetching batch: {e}. Retry {retries}/{max_retries} after {sleep_time:.2f}s\")\n",
        "                time.sleep(sleep_time)\n",
        "\n",
        "                # Increase delay for next retry using exponential backoff\n",
        "                delay *= backoff_factor\n",
        "\n",
        "        # Add polite delay between batches to be nice to NCBI\n",
        "        time.sleep(0.5)\n",
        "\n",
        "    return results\n",
        "\n",
        "print(\"⚡ Fetching strain names using NCBI efetch with batch processing...\")\n",
        "accession_list = list(all_insdc_ids)\n",
        "batch_size = 200  # Using a batch size of 100 (within NCBI's guidelines)\n",
        "\n",
        "with tqdm(total=len(all_insdc_ids), desc=\"Batch fetching\") as pbar:\n",
        "    accession_to_strain = {}\n",
        "\n",
        "    # Process in batches of batch_size\n",
        "    for i in range(0, len(accession_list), batch_size):\n",
        "        batch = accession_list[i:i+batch_size]\n",
        "        batch_results = fetch_strains_batch(batch, batch_size=batch_size)\n",
        "        accession_to_strain.update(batch_results)\n",
        "        pbar.update(len(batch))\n",
        "\n",
        "    print(f\"Batch processing completed. Found strain info for {len(accession_to_strain)} accessions.\")\n",
        "\n",
        "# Map strain → list of accessions\n",
        "strain_to_accessions = defaultdict(list)\n",
        "for acc, strain in accession_to_strain.items():\n",
        "    if strain:  # Only add items with actual strain information\n",
        "        strain_to_accessions[strain].append(acc)\n",
        "\n",
        "# Save result to JSON\n",
        "with open(\"strain_accession_map.json\", \"w\") as f:\n",
        "    json.dump(strain_to_accessions, f, indent=2)\n",
        "\n",
        "# Summary statistics\n",
        "print(f\"✅ Processed {len(all_insdc_ids)} accessions\")\n",
        "print(f\"✅ Found strain information for {len(accession_to_strain)} accessions\")\n",
        "print(f\"✅ Identified {len(strain_to_accessions)} unique strains\")\n",
        "print(\"✅ All done! Saved as 'strain_accession_map.json'\")"
      ]
    },
    {
      "cell_type": "code",
      "source": [],
      "metadata": {
        "colab": {
          "base_uri": "https://localhost:8080/"
        },
        "id": "r6prrd4ko4zB",
        "outputId": "0379a173-12c4-464d-f9d7-5f2ff5c21c9e"
      },
      "execution_count": 12,
      "outputs": [
        {
          "output_type": "stream",
          "name": "stdout",
          "text": [
            "Successfully retrieved 1 records from batch of 1 accessions\n"
          ]
        },
        {
          "output_type": "execute_result",
          "data": {
            "text/plain": [
              "{'PP894733.1': 'SH401971'}"
            ]
          },
          "metadata": {},
          "execution_count": 12
        }
      ]
    },
    {
      "cell_type": "code",
      "source": [],
      "metadata": {
        "colab": {
          "base_uri": "https://localhost:8080/",
          "height": 141
        },
        "id": "XiE_2l5So0V_",
        "outputId": "02f6cc70-5650-490d-bceb-0afc5d61557d"
      },
      "execution_count": 5,
      "outputs": [
        {
          "output_type": "error",
          "ename": "NameError",
          "evalue": "name 'records' is not defined",
          "traceback": [
            "\u001b[0;31m---------------------------------------------------------------------------\u001b[0m",
            "\u001b[0;31mNameError\u001b[0m                                 Traceback (most recent call last)",
            "\u001b[0;32m<ipython-input-5-f8d3eda2fc1d>\u001b[0m in \u001b[0;36m<cell line: 0>\u001b[0;34m()\u001b[0m\n\u001b[0;32m----> 1\u001b[0;31m \u001b[0mrecords\u001b[0m\u001b[0;34m\u001b[0m\u001b[0;34m\u001b[0m\u001b[0m\n\u001b[0m",
            "\u001b[0;31mNameError\u001b[0m: name 'records' is not defined"
          ]
        }
      ]
    },
    {
      "cell_type": "code",
      "source": [],
      "metadata": {
        "colab": {
          "base_uri": "https://localhost:8080/"
        },
        "id": "bUwfDzf4ota2",
        "outputId": "54d86762-e60a-4d44-fc94-319cf41e7c84"
      },
      "execution_count": 4,
      "outputs": [
        {
          "output_type": "execute_result",
          "data": {
            "text/plain": [
              "defaultdict(list, {})"
            ]
          },
          "metadata": {},
          "execution_count": 4
        }
      ]
    },
    {
      "cell_type": "code",
      "source": [],
      "metadata": {
        "colab": {
          "base_uri": "https://localhost:8080/"
        },
        "id": "NDBaFV_Ckbfn",
        "outputId": "25d89bd1-b36f-4a50-cb8b-9d656a011de7"
      },
      "execution_count": 19,
      "outputs": [
        {
          "output_type": "execute_result",
          "data": {
            "text/plain": [
              "('PP894733.1', 'SH401971')"
            ]
          },
          "metadata": {},
          "execution_count": 19
        }
      ]
    },
    {
      "cell_type": "code",
      "execution_count": 14,
      "metadata": {
        "id": "d0Yo8n2R6OZv",
        "colab": {
          "base_uri": "https://localhost:8080/"
        },
        "outputId": "d4500bf5-74c8-4090-98f5-b68eede6eb86"
      },
      "outputs": [
        {
          "output_type": "stream",
          "name": "stdout",
          "text": [
            "✅ Rows with matched strain info: 589\n",
            "✅ Saved:\n",
            "- grouped_by_strain.tsv\n",
            "- strain_groupings.json\n"
          ]
        }
      ],
      "source": [
        "import pandas as pd\n",
        "import json\n",
        "import time\n",
        "from collections import defaultdict\n",
        "\n",
        "# ----- Step 1: Load strain→accession map -----\n",
        "with open(\"strain_accession_map.json\", \"r\") as f:\n",
        "    strain_accession_map = json.load(f)\n",
        "\n",
        "# Create reverse lookup\n",
        "accession_to_strain = {}\n",
        "for strain, accessions in strain_accession_map.items():\n",
        "    for acc in accessions:\n",
        "        accession_to_strain[acc] = strain\n",
        "\n",
        "# ----- Step 2: Download input dataset -----\n",
        "url = (\n",
        "    \"https://lapis.pathoplexus.org/cchf/sample/details?\"\n",
        "    \"downloadAsFile=true&downloadFileBasename=cchf_metadata_2025-04-03T2223\"\n",
        "    \"&dataFormat=tsv&fields=accessionVersion%2CdataUseTerms%2CdataUseTermsUrl\"\n",
        "    \"%2CearliestReleaseDate%2CgeoLocAdmin1%2CgeoLocAdmin2%2CgeoLocCity\"\n",
        "    \"%2CgeoLocCountry%2ChostNameScientific%2Clength_L%2Clength_M%2Clength_S\"\n",
        "    \"%2CsampleCollectionDate%2CinsdcAccessionFull_L%2CinsdcAccessionFull_S\"\n",
        "    \"%2CinsdcAccessionFull_M%2CspecimenCollectorSampleId%2Cauthors%2CauthorAffiliations\"\n",
        "    \"&versionStatus=LATEST_VERSION&isRevocation=false\"\n",
        ")\n",
        "df = pd.read_csv(url, sep=\"\\t\")\n",
        "\n",
        "# ----- Step 3: Segment presence flags -----\n",
        "df[\"has_L\"] = df[\"length_L\"].apply(lambda x: x > 0)\n",
        "df[\"has_M\"] = df[\"length_M\"].apply(lambda x: x > 0)\n",
        "df[\"has_S\"] = df[\"length_S\"].apply(lambda x: x > 0)\n",
        "\n",
        "# ----- Step 4: Assign strain per row -----\n",
        "def determine_strain(row):\n",
        "    for col in [\"insdcAccessionFull_L\", \"insdcAccessionFull_M\", \"insdcAccessionFull_S\"]:\n",
        "        if pd.notnull(row[col]):\n",
        "            ids = [x.strip() for x in row[col].split(\",\") if x.strip()]\n",
        "            for acc in ids:\n",
        "                if acc in accession_to_strain:\n",
        "                    return accession_to_strain[acc]\n",
        "    return None\n",
        "\n",
        "df[\"strain\"] = df.apply(determine_strain, axis=1)\n",
        "df = df[df[\"strain\"].notnull()].copy()\n",
        "print(f\"✅ Rows with matched strain info: {len(df)}\")\n",
        "\n",
        "# ----- Step 5: Group by strain -----\n",
        "grouped_by_strain = df.groupby(\"strain\").agg({\n",
        "    \"length_L\": \"max\",\n",
        "    \"length_M\": \"max\",\n",
        "    \"length_S\": \"max\",\n",
        "    \"accessionVersion\": lambda x: list(x),\n",
        "    \"insdcAccessionFull_L\": lambda x: \", \".join(x.dropna().astype(str)),\n",
        "    \"insdcAccessionFull_M\": lambda x: \", \".join(x.dropna().astype(str)),\n",
        "    \"insdcAccessionFull_S\": lambda x: \", \".join(x.dropna().astype(str)),\n",
        "    \"sampleCollectionDate\": lambda x: \", \".join(x.dropna().astype(str)),\n",
        "    \"geoLocCountry\": lambda x: \", \".join(x.dropna().astype(str)),\n",
        "    \"hostNameScientific\": lambda x: \", \".join(x.dropna().astype(str)),\n",
        "    \"authors\": lambda x: list(x),\n",
        "    \"earliestReleaseDate\": lambda x: \", \".join(x.dropna().astype(str)),\n",
        "    \"has_L\": \"sum\",\n",
        "    \"has_M\": \"sum\",\n",
        "    \"has_S\": \"sum\"\n",
        "}).reset_index()\n",
        "\n",
        "# ----- Step 6: Filter groups -----\n",
        "filtered = grouped_by_strain[\n",
        "    (grouped_by_strain[\"accessionVersion\"].apply(lambda x: len(x) > 1)) &\n",
        "    (grouped_by_strain[\"has_L\"] <= 1) &\n",
        "    (grouped_by_strain[\"has_M\"] <= 1) &\n",
        "    (grouped_by_strain[\"has_S\"] <= 1)\n",
        "]\n",
        "\n",
        "# ----- Step 7: Generate JSON output -----\n",
        "def extract_insdc_list(row):\n",
        "    insdc_ids = []\n",
        "    for col in [\"insdcAccessionFull_L\", \"insdcAccessionFull_M\", \"insdcAccessionFull_S\"]:\n",
        "        if pd.notnull(row[col]):\n",
        "            insdc_ids.extend([x.strip() for x in row[col].split(\",\") if x.strip()])\n",
        "    return insdc_ids\n",
        "\n",
        "strain_json = {}\n",
        "for _, row in filtered.iterrows():\n",
        "    insdc_ids = extract_insdc_list(row)\n",
        "    unique_ids = list(dict.fromkeys(insdc_ids))  # keep order, remove dups\n",
        "    key = \"_\".join(unique_ids)\n",
        "    strain_json[key] = insdc_ids\n",
        "\n",
        "# ----- Step 8: Save outputs -----\n",
        "filtered.to_csv(\"grouped_by_strain.tsv\", sep=\"\\t\", index=False)\n",
        "with open(\"strain_groupings.json\", \"w\") as f:\n",
        "    json.dump(strain_json, f, indent=2)\n",
        "\n",
        "print(\"✅ Saved:\")\n",
        "print(\"- grouped_by_strain.tsv\")\n",
        "print(\"- strain_groupings.json\")\n"
      ]
    },
    {
      "cell_type": "code",
      "source": [],
      "metadata": {
        "id": "hpWEdEedOVHP"
      },
      "execution_count": null,
      "outputs": []
    }
  ],
  "metadata": {
    "colab": {
      "provenance": []
    },
    "kernelspec": {
      "display_name": "Python 3",
      "name": "python3"
    },
    "language_info": {
      "name": "python"
    },
    "widgets": {
      "application/vnd.jupyter.widget-state+json": {
        "c8f09a49fd0141c1acbd6b4c6f95c476": {
          "model_module": "@jupyter-widgets/controls",
          "model_name": "HBoxModel",
          "model_module_version": "1.5.0",
          "state": {
            "_dom_classes": [],
            "_model_module": "@jupyter-widgets/controls",
            "_model_module_version": "1.5.0",
            "_model_name": "HBoxModel",
            "_view_count": null,
            "_view_module": "@jupyter-widgets/controls",
            "_view_module_version": "1.5.0",
            "_view_name": "HBoxView",
            "box_style": "",
            "children": [
              "IPY_MODEL_4f0e47b13a9d47b59285e3b4184e0adf",
              "IPY_MODEL_470122c7f4f2401eaf10ebe1b3b3cc73",
              "IPY_MODEL_ffcbf8914c69410abf20b31726c32092"
            ],
            "layout": "IPY_MODEL_e1675712465544439d3c21e9c431d3d5"
          }
        },
        "4f0e47b13a9d47b59285e3b4184e0adf": {
          "model_module": "@jupyter-widgets/controls",
          "model_name": "HTMLModel",
          "model_module_version": "1.5.0",
          "state": {
            "_dom_classes": [],
            "_model_module": "@jupyter-widgets/controls",
            "_model_module_version": "1.5.0",
            "_model_name": "HTMLModel",
            "_view_count": null,
            "_view_module": "@jupyter-widgets/controls",
            "_view_module_version": "1.5.0",
            "_view_name": "HTMLView",
            "description": "",
            "description_tooltip": null,
            "layout": "IPY_MODEL_fc0968b617854f668e0f8a660f7fb8bf",
            "placeholder": "​",
            "style": "IPY_MODEL_0e6be726d49148e5a232ae3e1bea96ec",
            "value": "Batch fetching: 100%"
          }
        },
        "470122c7f4f2401eaf10ebe1b3b3cc73": {
          "model_module": "@jupyter-widgets/controls",
          "model_name": "FloatProgressModel",
          "model_module_version": "1.5.0",
          "state": {
            "_dom_classes": [],
            "_model_module": "@jupyter-widgets/controls",
            "_model_module_version": "1.5.0",
            "_model_name": "FloatProgressModel",
            "_view_count": null,
            "_view_module": "@jupyter-widgets/controls",
            "_view_module_version": "1.5.0",
            "_view_name": "ProgressView",
            "bar_style": "success",
            "description": "",
            "description_tooltip": null,
            "layout": "IPY_MODEL_e4defac4e010428cb150aa6974cb795d",
            "max": 4800,
            "min": 0,
            "orientation": "horizontal",
            "style": "IPY_MODEL_2a77887ff3d74869a39ed93dc270214a",
            "value": 4800
          }
        },
        "ffcbf8914c69410abf20b31726c32092": {
          "model_module": "@jupyter-widgets/controls",
          "model_name": "HTMLModel",
          "model_module_version": "1.5.0",
          "state": {
            "_dom_classes": [],
            "_model_module": "@jupyter-widgets/controls",
            "_model_module_version": "1.5.0",
            "_model_name": "HTMLModel",
            "_view_count": null,
            "_view_module": "@jupyter-widgets/controls",
            "_view_module_version": "1.5.0",
            "_view_name": "HTMLView",
            "description": "",
            "description_tooltip": null,
            "layout": "IPY_MODEL_e0b3d0013e9a472fae6cb7acb404f441",
            "placeholder": "​",
            "style": "IPY_MODEL_cb7c09fe376841a2b32e9bf68bfd72db",
            "value": " 4800/4800 [02:38&lt;00:00, 31.85it/s]"
          }
        },
        "e1675712465544439d3c21e9c431d3d5": {
          "model_module": "@jupyter-widgets/base",
          "model_name": "LayoutModel",
          "model_module_version": "1.2.0",
          "state": {
            "_model_module": "@jupyter-widgets/base",
            "_model_module_version": "1.2.0",
            "_model_name": "LayoutModel",
            "_view_count": null,
            "_view_module": "@jupyter-widgets/base",
            "_view_module_version": "1.2.0",
            "_view_name": "LayoutView",
            "align_content": null,
            "align_items": null,
            "align_self": null,
            "border": null,
            "bottom": null,
            "display": null,
            "flex": null,
            "flex_flow": null,
            "grid_area": null,
            "grid_auto_columns": null,
            "grid_auto_flow": null,
            "grid_auto_rows": null,
            "grid_column": null,
            "grid_gap": null,
            "grid_row": null,
            "grid_template_areas": null,
            "grid_template_columns": null,
            "grid_template_rows": null,
            "height": null,
            "justify_content": null,
            "justify_items": null,
            "left": null,
            "margin": null,
            "max_height": null,
            "max_width": null,
            "min_height": null,
            "min_width": null,
            "object_fit": null,
            "object_position": null,
            "order": null,
            "overflow": null,
            "overflow_x": null,
            "overflow_y": null,
            "padding": null,
            "right": null,
            "top": null,
            "visibility": null,
            "width": null
          }
        },
        "fc0968b617854f668e0f8a660f7fb8bf": {
          "model_module": "@jupyter-widgets/base",
          "model_name": "LayoutModel",
          "model_module_version": "1.2.0",
          "state": {
            "_model_module": "@jupyter-widgets/base",
            "_model_module_version": "1.2.0",
            "_model_name": "LayoutModel",
            "_view_count": null,
            "_view_module": "@jupyter-widgets/base",
            "_view_module_version": "1.2.0",
            "_view_name": "LayoutView",
            "align_content": null,
            "align_items": null,
            "align_self": null,
            "border": null,
            "bottom": null,
            "display": null,
            "flex": null,
            "flex_flow": null,
            "grid_area": null,
            "grid_auto_columns": null,
            "grid_auto_flow": null,
            "grid_auto_rows": null,
            "grid_column": null,
            "grid_gap": null,
            "grid_row": null,
            "grid_template_areas": null,
            "grid_template_columns": null,
            "grid_template_rows": null,
            "height": null,
            "justify_content": null,
            "justify_items": null,
            "left": null,
            "margin": null,
            "max_height": null,
            "max_width": null,
            "min_height": null,
            "min_width": null,
            "object_fit": null,
            "object_position": null,
            "order": null,
            "overflow": null,
            "overflow_x": null,
            "overflow_y": null,
            "padding": null,
            "right": null,
            "top": null,
            "visibility": null,
            "width": null
          }
        },
        "0e6be726d49148e5a232ae3e1bea96ec": {
          "model_module": "@jupyter-widgets/controls",
          "model_name": "DescriptionStyleModel",
          "model_module_version": "1.5.0",
          "state": {
            "_model_module": "@jupyter-widgets/controls",
            "_model_module_version": "1.5.0",
            "_model_name": "DescriptionStyleModel",
            "_view_count": null,
            "_view_module": "@jupyter-widgets/base",
            "_view_module_version": "1.2.0",
            "_view_name": "StyleView",
            "description_width": ""
          }
        },
        "e4defac4e010428cb150aa6974cb795d": {
          "model_module": "@jupyter-widgets/base",
          "model_name": "LayoutModel",
          "model_module_version": "1.2.0",
          "state": {
            "_model_module": "@jupyter-widgets/base",
            "_model_module_version": "1.2.0",
            "_model_name": "LayoutModel",
            "_view_count": null,
            "_view_module": "@jupyter-widgets/base",
            "_view_module_version": "1.2.0",
            "_view_name": "LayoutView",
            "align_content": null,
            "align_items": null,
            "align_self": null,
            "border": null,
            "bottom": null,
            "display": null,
            "flex": null,
            "flex_flow": null,
            "grid_area": null,
            "grid_auto_columns": null,
            "grid_auto_flow": null,
            "grid_auto_rows": null,
            "grid_column": null,
            "grid_gap": null,
            "grid_row": null,
            "grid_template_areas": null,
            "grid_template_columns": null,
            "grid_template_rows": null,
            "height": null,
            "justify_content": null,
            "justify_items": null,
            "left": null,
            "margin": null,
            "max_height": null,
            "max_width": null,
            "min_height": null,
            "min_width": null,
            "object_fit": null,
            "object_position": null,
            "order": null,
            "overflow": null,
            "overflow_x": null,
            "overflow_y": null,
            "padding": null,
            "right": null,
            "top": null,
            "visibility": null,
            "width": null
          }
        },
        "2a77887ff3d74869a39ed93dc270214a": {
          "model_module": "@jupyter-widgets/controls",
          "model_name": "ProgressStyleModel",
          "model_module_version": "1.5.0",
          "state": {
            "_model_module": "@jupyter-widgets/controls",
            "_model_module_version": "1.5.0",
            "_model_name": "ProgressStyleModel",
            "_view_count": null,
            "_view_module": "@jupyter-widgets/base",
            "_view_module_version": "1.2.0",
            "_view_name": "StyleView",
            "bar_color": null,
            "description_width": ""
          }
        },
        "e0b3d0013e9a472fae6cb7acb404f441": {
          "model_module": "@jupyter-widgets/base",
          "model_name": "LayoutModel",
          "model_module_version": "1.2.0",
          "state": {
            "_model_module": "@jupyter-widgets/base",
            "_model_module_version": "1.2.0",
            "_model_name": "LayoutModel",
            "_view_count": null,
            "_view_module": "@jupyter-widgets/base",
            "_view_module_version": "1.2.0",
            "_view_name": "LayoutView",
            "align_content": null,
            "align_items": null,
            "align_self": null,
            "border": null,
            "bottom": null,
            "display": null,
            "flex": null,
            "flex_flow": null,
            "grid_area": null,
            "grid_auto_columns": null,
            "grid_auto_flow": null,
            "grid_auto_rows": null,
            "grid_column": null,
            "grid_gap": null,
            "grid_row": null,
            "grid_template_areas": null,
            "grid_template_columns": null,
            "grid_template_rows": null,
            "height": null,
            "justify_content": null,
            "justify_items": null,
            "left": null,
            "margin": null,
            "max_height": null,
            "max_width": null,
            "min_height": null,
            "min_width": null,
            "object_fit": null,
            "object_position": null,
            "order": null,
            "overflow": null,
            "overflow_x": null,
            "overflow_y": null,
            "padding": null,
            "right": null,
            "top": null,
            "visibility": null,
            "width": null
          }
        },
        "cb7c09fe376841a2b32e9bf68bfd72db": {
          "model_module": "@jupyter-widgets/controls",
          "model_name": "DescriptionStyleModel",
          "model_module_version": "1.5.0",
          "state": {
            "_model_module": "@jupyter-widgets/controls",
            "_model_module_version": "1.5.0",
            "_model_name": "DescriptionStyleModel",
            "_view_count": null,
            "_view_module": "@jupyter-widgets/base",
            "_view_module_version": "1.2.0",
            "_view_name": "StyleView",
            "description_width": ""
          }
        }
      }
    }
  },
  "nbformat": 4,
  "nbformat_minor": 0
}